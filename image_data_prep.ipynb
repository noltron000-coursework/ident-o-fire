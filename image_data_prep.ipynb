{
 "cells": [
  {
   "cell_type": "markdown",
   "metadata": {},
   "source": [
    "# 🔥 Fire...or No Fire?\n",
    "\n",
    "## **Step 1:** Setup\n",
    "We need to set up the dataframe to initial state.\n",
    "Then we can manipulate it more in later steps, by cleaning it, digesting it, etc.\n",
    "\n",
    "### Import Packages\n",
    "> \"If I have seen further, it is by standing on the shoulders of Giants.\"<br />\n",
    "> &mdash; Isaac Newton\n"
   ]
  },
  {
   "cell_type": "code",
   "execution_count": 2,
   "metadata": {},
   "outputs": [
    {
     "name": "stderr",
     "output_type": "stream",
     "text": [
      "Using TensorFlow backend.\n"
     ]
    }
   ],
   "source": [
    "# glob crawler for reading files and folders\n",
    "import glob\n",
    "\n",
    "# regex parser for advanced string-parsing\n",
    "import re\n",
    "\n",
    "# pandas used for dataframe manipulation\n",
    "import pandas\n",
    "\n",
    "# numpy is used for odds and ends, like high-efficiency arrays\n",
    "import numpy\n",
    "\n",
    "# python imaging library; used for deconstructing images\n",
    "from PIL import Image\n",
    "\n",
    "# other imports are described as they are used\n",
    "from keras.models import Sequential\n",
    "from keras.losses import binary_crossentropy\n",
    "from keras.optimizers import Adadelta\n",
    "from keras.preprocessing.image import img_to_array\n",
    "from sklearn.model_selection import train_test_split"
   ]
  },
  {
   "cell_type": "markdown",
   "metadata": {},
   "source": [
    "### Crawl Datafiles\n",
    "The **glob** package is great and sets up our project for success.\n",
    "Be sure you have your directory-structure set up correctly as stated in the README&hellip;\n",
    "Otherwise, I cannot guarentee that this project will work for you!"
   ]
  },
  {
   "cell_type": "code",
   "execution_count": 3,
   "metadata": {},
   "outputs": [],
   "source": [
    "# get all files from dirs in the data dir\n",
    "files = glob.glob('data/*/*.*')"
   ]
  },
  {
   "cell_type": "code",
   "execution_count": 4,
   "metadata": {},
   "outputs": [],
   "source": [
    "# prepare dataset in an array\n",
    "dataset = []\n",
    "\n",
    "# loop through every file that \"glob\" found.\n",
    "for filepath in files:\n",
    "\t# regex used for Windows/MacOS compatibility\n",
    "\tfilecrawl = re.split(r'\\\\+|/+', filepath)\n",
    "\n",
    "\t# remove the \"data\" folder entry; its not needed\n",
    "\tfilecrawl = filecrawl[1:]\n",
    "\n",
    "\t# tag images from the fire-images folder as \"fire\"\n",
    "\tif filecrawl[0] == 'Fire images':\n",
    "\t\tfilecrawl.append(1)\n",
    "\telse:\n",
    "\t\tfilecrawl.append(0)\n",
    "\n",
    "\t# add filecrawl findings to dataset\n",
    "\tdataset.append(filecrawl)\n",
    "\t# ==NOTE==\n",
    "\t# Because the \"glob\" package arbitrarily crawls files, the\n",
    "\t# index of an item may not be the same each time this is run."
   ]
  },
  {
   "cell_type": "markdown",
   "metadata": {},
   "source": [
    "### Create Dataframe"
   ]
  },
  {
   "cell_type": "code",
   "execution_count": 5,
   "metadata": {},
   "outputs": [
    {
     "data": {
      "text/html": [
       "<div>\n",
       "<style scoped>\n",
       "    .dataframe tbody tr th:only-of-type {\n",
       "        vertical-align: middle;\n",
       "    }\n",
       "\n",
       "    .dataframe tbody tr th {\n",
       "        vertical-align: top;\n",
       "    }\n",
       "\n",
       "    .dataframe thead th {\n",
       "        text-align: right;\n",
       "    }\n",
       "</style>\n",
       "<table border=\"1\" class=\"dataframe\">\n",
       "  <thead>\n",
       "    <tr style=\"text-align: right;\">\n",
       "      <th></th>\n",
       "      <th>folder</th>\n",
       "      <th>filename</th>\n",
       "      <th>fire</th>\n",
       "    </tr>\n",
       "  </thead>\n",
       "  <tbody>\n",
       "    <tr>\n",
       "      <th>0</th>\n",
       "      <td>Fire images</td>\n",
       "      <td>1.jpg</td>\n",
       "      <td>1</td>\n",
       "    </tr>\n",
       "    <tr>\n",
       "      <th>1</th>\n",
       "      <td>Fire images</td>\n",
       "      <td>10-9-15-2-400.jpg</td>\n",
       "      <td>1</td>\n",
       "    </tr>\n",
       "    <tr>\n",
       "      <th>2</th>\n",
       "      <td>Fire images</td>\n",
       "      <td>11_10_19-mjs_ft_hotel-fire_19183862.jpg</td>\n",
       "      <td>1</td>\n",
       "    </tr>\n",
       "    <tr>\n",
       "      <th>3</th>\n",
       "      <td>Fire images</td>\n",
       "      <td>132-img1.png</td>\n",
       "      <td>1</td>\n",
       "    </tr>\n",
       "    <tr>\n",
       "      <th>4</th>\n",
       "      <td>Fire images</td>\n",
       "      <td>132343342_21n.jpg</td>\n",
       "      <td>1</td>\n",
       "    </tr>\n",
       "  </tbody>\n",
       "</table>\n",
       "</div>"
      ],
      "text/plain": [
       "        folder                                 filename  fire\n",
       "0  Fire images                                    1.jpg     1\n",
       "1  Fire images                        10-9-15-2-400.jpg     1\n",
       "2  Fire images  11_10_19-mjs_ft_hotel-fire_19183862.jpg     1\n",
       "3  Fire images                             132-img1.png     1\n",
       "4  Fire images                        132343342_21n.jpg     1"
      ]
     },
     "metadata": {},
     "output_type": "display_data"
    },
    {
     "data": {
      "text/html": [
       "<div>\n",
       "<style scoped>\n",
       "    .dataframe tbody tr th:only-of-type {\n",
       "        vertical-align: middle;\n",
       "    }\n",
       "\n",
       "    .dataframe tbody tr th {\n",
       "        vertical-align: top;\n",
       "    }\n",
       "\n",
       "    .dataframe thead th {\n",
       "        text-align: right;\n",
       "    }\n",
       "</style>\n",
       "<table border=\"1\" class=\"dataframe\">\n",
       "  <thead>\n",
       "    <tr style=\"text-align: right;\">\n",
       "      <th></th>\n",
       "      <th>folder</th>\n",
       "      <th>filename</th>\n",
       "      <th>fire</th>\n",
       "    </tr>\n",
       "  </thead>\n",
       "  <tbody>\n",
       "    <tr>\n",
       "      <th>646</th>\n",
       "      <td>Normal Images 5</td>\n",
       "      <td>x14862823.jpg</td>\n",
       "      <td>0</td>\n",
       "    </tr>\n",
       "    <tr>\n",
       "      <th>647</th>\n",
       "      <td>Normal Images 5</td>\n",
       "      <td>xbR1sVO.png</td>\n",
       "      <td>0</td>\n",
       "    </tr>\n",
       "    <tr>\n",
       "      <th>648</th>\n",
       "      <td>Normal Images 5</td>\n",
       "      <td>xR7vfcy.jpg</td>\n",
       "      <td>0</td>\n",
       "    </tr>\n",
       "    <tr>\n",
       "      <th>649</th>\n",
       "      <td>Normal Images 5</td>\n",
       "      <td>xsylvia-hotel-queen-room.jpg.pagespeed.ic.hw9T...</td>\n",
       "      <td>0</td>\n",
       "    </tr>\n",
       "    <tr>\n",
       "      <th>650</th>\n",
       "      <td>Normal Images 5</td>\n",
       "      <td>y5IQiH.jpg</td>\n",
       "      <td>0</td>\n",
       "    </tr>\n",
       "  </tbody>\n",
       "</table>\n",
       "</div>"
      ],
      "text/plain": [
       "              folder                                           filename  fire\n",
       "646  Normal Images 5                                      x14862823.jpg     0\n",
       "647  Normal Images 5                                        xbR1sVO.png     0\n",
       "648  Normal Images 5                                        xR7vfcy.jpg     0\n",
       "649  Normal Images 5  xsylvia-hotel-queen-room.jpg.pagespeed.ic.hw9T...     0\n",
       "650  Normal Images 5                                         y5IQiH.jpg     0"
      ]
     },
     "metadata": {},
     "output_type": "display_data"
    }
   ],
   "source": [
    "# create our project's main dataframe\n",
    "dataframe = pandas.DataFrame(dataset, columns=['folder', 'filename', 'fire'])\n",
    "\n",
    "# display shows these tables neatly, shown below\n",
    "display(dataframe.head(), dataframe.tail())"
   ]
  },
  {
   "cell_type": "markdown",
   "metadata": {},
   "source": [
    "## Step 2: Data Manipulation"
   ]
  },
  {
   "cell_type": "markdown",
   "metadata": {},
   "source": [
    "### Check for Duplicates"
   ]
  },
  {
   "cell_type": "code",
   "execution_count": 6,
   "metadata": {},
   "outputs": [
    {
     "data": {
      "text/html": [
       "<div>\n",
       "<style scoped>\n",
       "    .dataframe tbody tr th:only-of-type {\n",
       "        vertical-align: middle;\n",
       "    }\n",
       "\n",
       "    .dataframe tbody tr th {\n",
       "        vertical-align: top;\n",
       "    }\n",
       "\n",
       "    .dataframe thead th {\n",
       "        text-align: right;\n",
       "    }\n",
       "</style>\n",
       "<table border=\"1\" class=\"dataframe\">\n",
       "  <thead>\n",
       "    <tr style=\"text-align: right;\">\n",
       "      <th></th>\n",
       "      <th>folder</th>\n",
       "      <th>filename</th>\n",
       "      <th>fire</th>\n",
       "    </tr>\n",
       "  </thead>\n",
       "  <tbody>\n",
       "    <tr>\n",
       "      <th>0</th>\n",
       "      <td>Fire images</td>\n",
       "      <td>1.jpg</td>\n",
       "      <td>1</td>\n",
       "    </tr>\n",
       "    <tr>\n",
       "      <th>7</th>\n",
       "      <td>Fire images</td>\n",
       "      <td>14.jpg</td>\n",
       "      <td>1</td>\n",
       "    </tr>\n",
       "    <tr>\n",
       "      <th>70</th>\n",
       "      <td>Fire images</td>\n",
       "      <td>images.jpg</td>\n",
       "      <td>1</td>\n",
       "    </tr>\n",
       "    <tr>\n",
       "      <th>77</th>\n",
       "      <td>Fire images</td>\n",
       "      <td>maxresdefault.jpg</td>\n",
       "      <td>1</td>\n",
       "    </tr>\n",
       "    <tr>\n",
       "      <th>124</th>\n",
       "      <td>Normal Images 1</td>\n",
       "      <td>1.jpg</td>\n",
       "      <td>0</td>\n",
       "    </tr>\n",
       "    <tr>\n",
       "      <th>133</th>\n",
       "      <td>Normal Images 1</td>\n",
       "      <td>14.jpg</td>\n",
       "      <td>0</td>\n",
       "    </tr>\n",
       "    <tr>\n",
       "      <th>417</th>\n",
       "      <td>Normal Images 3</td>\n",
       "      <td>images.jpg</td>\n",
       "      <td>0</td>\n",
       "    </tr>\n",
       "    <tr>\n",
       "      <th>462</th>\n",
       "      <td>Normal Images 3</td>\n",
       "      <td>maxresdefault.jpg</td>\n",
       "      <td>0</td>\n",
       "    </tr>\n",
       "  </tbody>\n",
       "</table>\n",
       "</div>"
      ],
      "text/plain": [
       "              folder           filename  fire\n",
       "0        Fire images              1.jpg     1\n",
       "7        Fire images             14.jpg     1\n",
       "70       Fire images         images.jpg     1\n",
       "77       Fire images  maxresdefault.jpg     1\n",
       "124  Normal Images 1              1.jpg     0\n",
       "133  Normal Images 1             14.jpg     0\n",
       "417  Normal Images 3         images.jpg     0\n",
       "462  Normal Images 3  maxresdefault.jpg     0"
      ]
     },
     "metadata": {},
     "output_type": "display_data"
    },
    {
     "data": {
      "text/plain": [
       "Warning('There are 8 duplicated filenames in the dataframe. proceed with caution.')"
      ]
     },
     "metadata": {},
     "output_type": "display_data"
    }
   ],
   "source": [
    "# check for any duplicate filenames in the dataframe\n",
    "duplicates = dataframe['filename'].duplicated(keep=False)\n",
    "\n",
    "# Select rows with duplicate filenames\n",
    "duplicate_rows = dataframe[duplicates]\n",
    "display(duplicate_rows)\n",
    "\n",
    "# create a warning if duplicates exist\n",
    "if duplicates.sum() != 0:\n",
    "\twarning = Warning(\n",
    "\t\tf'There are {duplicates.sum()}'\n",
    "\t\t' duplicated filenames in the dataframe.'\n",
    "\t\t' proceed with caution.'\n",
    "\t) \n",
    "\tdisplay(warning)"
   ]
  },
  {
   "cell_type": "markdown",
   "metadata": {},
   "source": [
    "### Rebalance Datapoints\n",
    "I used [this article][rebalancing] to help figure things out.\n",
    "\n",
    "[rebalancing]: https://towardsdatascience.com/having-an-imbalanced-dataset-here-is-how-you-can-solve-it-1640568947eb"
   ]
  },
  {
   "cell_type": "code",
   "execution_count": 7,
   "metadata": {},
   "outputs": [],
   "source": [
    "# == FIXME ==\n",
    "# this does not seem to be working properly at the moment\n",
    "\n",
    "\"\"\"\n",
    "from imblearn.ensemble import BalancedBaggingClassifier\n",
    "from sklearn.tree import DecisionTreeClassifier\n",
    "\n",
    "# create an object of the classifier, called \"rebalancinator\"\n",
    "rebalancinator = BalancedBaggingClassifier(\n",
    "\tbase_estimator=DecisionTreeClassifier(),\n",
    "\tsampling_strategy='auto',\n",
    "\treplacement=False,\n",
    "\trandom_state=0\n",
    ")\n",
    "\n",
    "'''\n",
    "# train the classifier.\n",
    "rebalancinator.fit(x_train, y_train)\n",
    "preds = rebalancinator.predict(x_train)\n",
    "'''\n",
    "\"\"\"\n",
    "\n",
    "pass"
   ]
  },
  {
   "cell_type": "markdown",
   "metadata": {},
   "source": [
    "### Train/Test Split\n",
    "*Why do we need train/test split?*\n",
    "*What does it do?*"
   ]
  },
  {
   "cell_type": "code",
   "execution_count": 8,
   "metadata": {},
   "outputs": [],
   "source": [
    "# for x: keep the dataframe but drop the fire column\n",
    "x = dataframe.drop(columns=['fire'])\n",
    "\n",
    "# for y: drop everything in the dataframe but fire\n",
    "y = dataframe.loc[:, ['fire']]"
   ]
  },
  {
   "cell_type": "code",
   "execution_count": 9,
   "metadata": {},
   "outputs": [
    {
     "data": {
      "text/html": [
       "<div>\n",
       "<style scoped>\n",
       "    .dataframe tbody tr th:only-of-type {\n",
       "        vertical-align: middle;\n",
       "    }\n",
       "\n",
       "    .dataframe tbody tr th {\n",
       "        vertical-align: top;\n",
       "    }\n",
       "\n",
       "    .dataframe thead th {\n",
       "        text-align: right;\n",
       "    }\n",
       "</style>\n",
       "<table border=\"1\" class=\"dataframe\">\n",
       "  <thead>\n",
       "    <tr style=\"text-align: right;\">\n",
       "      <th></th>\n",
       "      <th>folder</th>\n",
       "      <th>filename</th>\n",
       "    </tr>\n",
       "  </thead>\n",
       "  <tbody>\n",
       "    <tr>\n",
       "      <th>0</th>\n",
       "      <td>Normal Images 4</td>\n",
       "      <td>norway-gamle-bergen-museum.jpg</td>\n",
       "    </tr>\n",
       "    <tr>\n",
       "      <th>1</th>\n",
       "      <td>Normal Images 5</td>\n",
       "      <td>room1212.jpg</td>\n",
       "    </tr>\n",
       "    <tr>\n",
       "      <th>2</th>\n",
       "      <td>Normal Images 1</td>\n",
       "      <td>6-Wonderful-European-Vacation-Alternatives-in-...</td>\n",
       "    </tr>\n",
       "    <tr>\n",
       "      <th>3</th>\n",
       "      <td>Normal Images 4</td>\n",
       "      <td>mps-conv-store-model2.jpg</td>\n",
       "    </tr>\n",
       "    <tr>\n",
       "      <th>4</th>\n",
       "      <td>Normal Images 3</td>\n",
       "      <td>maxresdefaultvfv.jpg</td>\n",
       "    </tr>\n",
       "  </tbody>\n",
       "</table>\n",
       "</div>"
      ],
      "text/plain": [
       "            folder                                           filename\n",
       "0  Normal Images 4                     norway-gamle-bergen-museum.jpg\n",
       "1  Normal Images 5                                       room1212.jpg\n",
       "2  Normal Images 1  6-Wonderful-European-Vacation-Alternatives-in-...\n",
       "3  Normal Images 4                          mps-conv-store-model2.jpg\n",
       "4  Normal Images 3                               maxresdefaultvfv.jpg"
      ]
     },
     "metadata": {},
     "output_type": "display_data"
    },
    {
     "data": {
      "text/html": [
       "<div>\n",
       "<style scoped>\n",
       "    .dataframe tbody tr th:only-of-type {\n",
       "        vertical-align: middle;\n",
       "    }\n",
       "\n",
       "    .dataframe tbody tr th {\n",
       "        vertical-align: top;\n",
       "    }\n",
       "\n",
       "    .dataframe thead th {\n",
       "        text-align: right;\n",
       "    }\n",
       "</style>\n",
       "<table border=\"1\" class=\"dataframe\">\n",
       "  <thead>\n",
       "    <tr style=\"text-align: right;\">\n",
       "      <th></th>\n",
       "      <th>fire</th>\n",
       "    </tr>\n",
       "  </thead>\n",
       "  <tbody>\n",
       "    <tr>\n",
       "      <th>0</th>\n",
       "      <td>0</td>\n",
       "    </tr>\n",
       "    <tr>\n",
       "      <th>1</th>\n",
       "      <td>0</td>\n",
       "    </tr>\n",
       "    <tr>\n",
       "      <th>2</th>\n",
       "      <td>0</td>\n",
       "    </tr>\n",
       "    <tr>\n",
       "      <th>3</th>\n",
       "      <td>0</td>\n",
       "    </tr>\n",
       "    <tr>\n",
       "      <th>4</th>\n",
       "      <td>0</td>\n",
       "    </tr>\n",
       "  </tbody>\n",
       "</table>\n",
       "</div>"
      ],
      "text/plain": [
       "   fire\n",
       "0     0\n",
       "1     0\n",
       "2     0\n",
       "3     0\n",
       "4     0"
      ]
     },
     "metadata": {},
     "output_type": "display_data"
    }
   ],
   "source": [
    "# Use the built-in \"train test split\" function\n",
    "# to generate the four desireable segments of data.\n",
    "x_train, x_test, y_train, y_test = train_test_split(\n",
    "\tx, y, test_size=0.35)\n",
    "\n",
    "x_train = x_train.reset_index().drop('index', 1)\n",
    "y_train = y_train.reset_index().drop('index', 1)\n",
    "\n",
    "display(x_train.head())\n",
    "display(y_train.head())"
   ]
  },
  {
   "cell_type": "markdown",
   "metadata": {},
   "source": [
    "### Create Image Vectors"
   ]
  },
  {
   "cell_type": "code",
   "execution_count": 10,
   "metadata": {},
   "outputs": [],
   "source": [
    "image_length = 256"
   ]
  },
  {
   "cell_type": "code",
   "execution_count": 11,
   "metadata": {
    "scrolled": true
   },
   "outputs": [],
   "source": [
    "def get_img_vector(img_sample, index):\n",
    "\t# find filepath\n",
    "\tfilename = img_sample['filename'][index]\n",
    "\tfolder = img_sample['folder'][index]\n",
    "\tfilepath = f'data/{folder}/{filename}'\n",
    "\n",
    "\t# open the image via its filepath\n",
    "\timg = Image.open(filepath)\n",
    "\t# ==NOTE==\n",
    "\t# the Image class was imported from PIL\n",
    "\t# (python image library)\n",
    "\n",
    "\t# remove transparency layer\n",
    "\timg = img.convert('RGB')\n",
    "\n",
    "\t# resize the image\n",
    "\timg = img.resize((image_length, image_length))\n",
    "\n",
    "\t# return the image vector\n",
    "\treturn img_to_array(img)"
   ]
  },
  {
   "cell_type": "code",
   "execution_count": 12,
   "metadata": {
    "scrolled": true
   },
   "outputs": [],
   "source": [
    "def data_gen(x_train, y_train, batch_size):\n",
    "\t# n_batch variables are empty arrays of constant size.\n",
    "\t# x_batch is has RGB values for each pixel's coordinate.\n",
    "\t# y_batch represents whether there is fire or not (0/1).\n",
    "\tx_batch = numpy.zeros((batch_size, image_length, image_length, 3))\n",
    "\ty_batch = numpy.zeros((batch_size, 1))\n",
    "\n",
    "\t# loop through entire dataframe, index by index\n",
    "\tfor index in range(len(x_train)):\n",
    "\t\t# using batch_size, we can determine \n",
    "\t\tx_batch[index % batch_size] = get_img_vector(x_train, index)\n",
    "\t\ty_batch[index % batch_size] = y_train['fire'][index]\n",
    "\n",
    "\t\t# if there has been {batch_size} items, we yield.\n",
    "\t\t# the last batch is an outlier; its batch is smaller.\n",
    "\t\tif ((index + 1) % batch_size == 0\n",
    "\t\tor (index + 1) == len(dataframe)):\n",
    "\t\t\tyield (x_batch, y_batch)"
   ]
  },
  {
   "cell_type": "markdown",
   "metadata": {},
   "source": [
    "## Step 3: Train Model"
   ]
  },
  {
   "cell_type": "code",
   "execution_count": 13,
   "metadata": {},
   "outputs": [],
   "source": [
    "# use \"sequential\" mode from keras module\n",
    "# see https://jovianlin.io/keras-models-sequential-vs-functional/\n",
    "from keras.layers import Conv2D, MaxPooling2D, Flatten, Dense, Dropout\n",
    "model = Sequential()\n",
    "model.add(Conv2D(16, (4,4), activation='relu', padding='same', input_shape=(image_length, image_length, 3)))\n",
    "model.add(Flatten())\n",
    "model.add(Dense(128, activation='relu'))\n",
    "model.add(Dense(16, activation='relu'))\n",
    "model.add(Dense(1, activation='sigmoid'))"
   ]
  },
  {
   "cell_type": "code",
   "execution_count": 14,
   "metadata": {},
   "outputs": [],
   "source": [
    "model.compile(\n",
    "\tloss=binary_crossentropy,\n",
    "\toptimizer=Adadelta(),\n",
    "\tmetrics=['accuracy']\n",
    ")"
   ]
  },
  {
   "cell_type": "code",
   "execution_count": 16,
   "metadata": {},
   "outputs": [
    {
     "name": "stdout",
     "output_type": "stream",
     "text": [
      "Epoch 1 / 5\n",
      "64/64 [==============================] - 0s 7ms/step\n",
      "accuracy: 0.828125\n",
      "64/64 [==============================] - 0s 6ms/step\n",
      "accuracy: 0.96875\n",
      "64/64 [==============================] - 0s 6ms/step\n",
      "accuracy: 0.703125\n",
      "64/64 [==============================] - 0s 7ms/step\n",
      "accuracy: 0.859375\n",
      "64/64 [==============================] - 0s 7ms/step\n",
      "accuracy: 0.875\n",
      "64/64 [==============================] - 0s 6ms/step\n",
      "accuracy: 0.90625\n",
      "Epoch 2 / 5\n",
      "64/64 [==============================] - 0s 7ms/step\n",
      "accuracy: 0.859375\n",
      "64/64 [==============================] - 0s 7ms/step\n",
      "accuracy: 0.96875\n",
      "64/64 [==============================] - 0s 6ms/step\n",
      "accuracy: 0.84375\n",
      "64/64 [==============================] - 0s 7ms/step\n",
      "accuracy: 0.875\n",
      "64/64 [==============================] - 0s 6ms/step\n",
      "accuracy: 0.9375\n",
      "64/64 [==============================] - 0s 7ms/step\n",
      "accuracy: 0.890625\n",
      "Epoch 3 / 5\n",
      "64/64 [==============================] - 0s 7ms/step\n",
      "accuracy: 0.921875\n",
      "64/64 [==============================] - 0s 7ms/step\n",
      "accuracy: 0.953125\n",
      "64/64 [==============================] - 0s 6ms/step\n",
      "accuracy: 0.96875\n",
      "64/64 [==============================] - 0s 7ms/step\n",
      "accuracy: 0.953125\n",
      "64/64 [==============================] - 0s 6ms/step\n",
      "accuracy: 0.90625\n",
      "64/64 [==============================] - 0s 7ms/step\n",
      "accuracy: 0.953125\n",
      "Epoch 4 / 5\n",
      "64/64 [==============================] - 0s 7ms/step\n",
      "accuracy: 0.984375\n",
      "64/64 [==============================] - 0s 7ms/step\n",
      "accuracy: 0.953125\n",
      "64/64 [==============================] - 0s 7ms/step\n",
      "accuracy: 0.984375\n",
      "64/64 [==============================] - 0s 7ms/step\n",
      "accuracy: 1.0\n",
      "64/64 [==============================] - 0s 6ms/step\n",
      "accuracy: 0.96875\n",
      "64/64 [==============================] - 0s 7ms/step\n",
      "accuracy: 0.984375\n",
      "Epoch 5 / 5\n",
      "64/64 [==============================] - 0s 7ms/step\n",
      "accuracy: 0.9375\n",
      "64/64 [==============================] - 0s 7ms/step\n",
      "accuracy: 1.0\n",
      "64/64 [==============================] - 0s 7ms/step\n",
      "accuracy: 0.984375\n",
      "64/64 [==============================] - 0s 7ms/step\n",
      "accuracy: 1.0\n",
      "64/64 [==============================] - 0s 7ms/step\n",
      "accuracy: 0.984375\n",
      "64/64 [==============================] - 0s 7ms/step\n",
      "accuracy: 0.875\n"
     ]
    }
   ],
   "source": [
    "batch_size = 64\n",
    "epochs = 5\n",
    "\n",
    "for epoch in range(epochs):\n",
    "\tprint(f\"Epoch {epoch+1} / {epochs}\")\n",
    "\tfor x_batch, y_batch in data_gen(x_train, y_train, batch_size):\n",
    "\t\tmodel.train_on_batch(\n",
    "\t\t\tx_batch, y_batch\n",
    "\t\t)\n",
    "\t\tloss, accuracy = model.evaluate(x_batch, y_batch)\n",
    "\t\tprint('accuracy:', accuracy)"
   ]
  },
  {
   "cell_type": "markdown",
   "metadata": {},
   "source": [
    "## Step 4: Affirm Model Accuracy"
   ]
  },
  {
   "cell_type": "code",
   "execution_count": 23,
   "metadata": {},
   "outputs": [],
   "source": [
    "model.save('./fire_image_classifier_model.h5')"
   ]
  }
 ],
 "metadata": {
  "kernelspec": {
   "display_name": "Python 3",
   "language": "python",
   "name": "python3"
  },
  "language_info": {
   "codemirror_mode": {
    "name": "ipython",
    "version": 3
   },
   "file_extension": ".py",
   "mimetype": "text/x-python",
   "name": "python",
   "nbconvert_exporter": "python",
   "pygments_lexer": "ipython3",
   "version": "3.7.3"
  }
 },
 "nbformat": 4,
 "nbformat_minor": 2
}
