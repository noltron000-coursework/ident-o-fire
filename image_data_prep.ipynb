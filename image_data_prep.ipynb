{
 "cells": [
  {
   "cell_type": "markdown",
   "metadata": {
    "slideshow": {
     "slide_type": "slide"
    }
   },
   "source": [
    "# 🔥 Ident-O-Fire 2020\n",
    "This image recognition data-model helps determine whether or not the input contains flames.\n",
    "At first glance, this might not seem useful, and perhaps insultind due to the climate in Australia.\n",
    "\n",
    "However, the *Ident-O-Fire 2020* could be used to help solve fire emergencies through security  technology.\n",
    "For example, a security camera could run a recent image through the *Ident-O-Fire 2020* and alert admins if one or several cameras are tripped.\n",
    "\n",
    "Through this presentation, you will understand how this module was created."
   ]
  },
  {
   "cell_type": "markdown",
   "metadata": {
    "slideshow": {
     "slide_type": "slide"
    }
   },
   "source": [
    "## **Step 1:** Setup\n",
    "We need to set up the dataframe to initial state.\n",
    "Then we can manipulate it more in later steps, by cleaning it, digesting it, etc.\n",
    "- A *dataframe* is a glorified spreadsheet"
   ]
  },
  {
   "cell_type": "markdown",
   "metadata": {
    "slideshow": {
     "slide_type": "subslide"
    }
   },
   "source": [
    "### Import Packages\n",
    "> \"If I have seen further, it is by standing on the shoulders of Giants.\"<br />\n",
    "> &mdash; Isaac Newton"
   ]
  },
  {
   "cell_type": "code",
   "execution_count": 133,
   "metadata": {
    "slideshow": {
     "slide_type": "fragment"
    }
   },
   "outputs": [],
   "source": [
    "# glob crawler for reading files and folders\n",
    "import glob\n",
    "\n",
    "# regex parser for advanced string-parsing\n",
    "import re\n",
    "\n",
    "# pandas used for dataframe manipulation\n",
    "import pandas\n",
    "\n",
    "# numpy is used for odds and ends, like high-efficiency arrays\n",
    "import numpy\n",
    "\n",
    "# python imaging library; used for deconstructing images\n",
    "from PIL import Image\n",
    "\n",
    "# other imports are described as they are used\n",
    "from keras.models import Sequential\n",
    "from keras.losses import binary_crossentropy\n",
    "from keras.optimizers import Adadelta\n",
    "from keras.preprocessing.image import img_to_array\n",
    "from sklearn.model_selection import train_test_split"
   ]
  },
  {
   "cell_type": "markdown",
   "metadata": {
    "slideshow": {
     "slide_type": "subslide"
    }
   },
   "source": [
    "### Crawl Datafiles\n",
    "The **glob** package is great and sets up our project for success.\n",
    "Be sure you have your directory-structure set up correctly as stated in the README&hellip;\n",
    "Otherwise, I cannot guarentee that this project will work for you!"
   ]
  },
  {
   "cell_type": "code",
   "execution_count": 134,
   "metadata": {
    "slideshow": {
     "slide_type": "fragment"
    }
   },
   "outputs": [],
   "source": [
    "# get all files from dirs in the data dir\n",
    "files = glob.glob('data/*/*.*')"
   ]
  },
  {
   "cell_type": "code",
   "execution_count": 135,
   "metadata": {
    "slideshow": {
     "slide_type": "fragment"
    }
   },
   "outputs": [],
   "source": [
    "# prepare dataset in an array\n",
    "dataset = []\n",
    "\n",
    "# loop through every file that \"glob\" found.\n",
    "for filepath in files:\n",
    "\t# regex used for Windows/MacOS compatibility\n",
    "\tfilecrawl = re.split(r'\\\\+|/+', filepath)\n",
    "\n",
    "\t# remove the \"data\" folder entry; its not needed\n",
    "\tfilecrawl = filecrawl[1:]\n",
    "\n",
    "\t# tag images from the fire-images folder as \"fire\"\n",
    "\tif filecrawl[0] == 'Fire images':\n",
    "\t\tfilecrawl.append(1)\n",
    "\telse:\n",
    "\t\tfilecrawl.append(0)\n",
    "\n",
    "\t# add filecrawl findings to dataset\n",
    "\tdataset.append(filecrawl)\n",
    "\t# ==NOTE==\n",
    "\t# Because the \"glob\" package arbitrarily crawls files, the\n",
    "\t# index of an item may not be the same each time this is run."
   ]
  },
  {
   "cell_type": "markdown",
   "metadata": {
    "slideshow": {
     "slide_type": "subslide"
    }
   },
   "source": [
    "### Create Dataframe"
   ]
  },
  {
   "cell_type": "code",
   "execution_count": 136,
   "metadata": {
    "scrolled": true,
    "slideshow": {
     "slide_type": "fragment"
    }
   },
   "outputs": [
    {
     "data": {
      "text/html": [
       "<div>\n",
       "<style scoped>\n",
       "    .dataframe tbody tr th:only-of-type {\n",
       "        vertical-align: middle;\n",
       "    }\n",
       "\n",
       "    .dataframe tbody tr th {\n",
       "        vertical-align: top;\n",
       "    }\n",
       "\n",
       "    .dataframe thead th {\n",
       "        text-align: right;\n",
       "    }\n",
       "</style>\n",
       "<table border=\"1\" class=\"dataframe\">\n",
       "  <thead>\n",
       "    <tr style=\"text-align: right;\">\n",
       "      <th></th>\n",
       "      <th>folder</th>\n",
       "      <th>filename</th>\n",
       "      <th>fire</th>\n",
       "    </tr>\n",
       "  </thead>\n",
       "  <tbody>\n",
       "    <tr>\n",
       "      <th>0</th>\n",
       "      <td>Fire images</td>\n",
       "      <td>1.jpg</td>\n",
       "      <td>1</td>\n",
       "    </tr>\n",
       "    <tr>\n",
       "      <th>1</th>\n",
       "      <td>Fire images</td>\n",
       "      <td>10-9-15-2-400.jpg</td>\n",
       "      <td>1</td>\n",
       "    </tr>\n",
       "    <tr>\n",
       "      <th>2</th>\n",
       "      <td>Fire images</td>\n",
       "      <td>11_10_19-mjs_ft_hotel-fire_19183862.jpg</td>\n",
       "      <td>1</td>\n",
       "    </tr>\n",
       "    <tr>\n",
       "      <th>3</th>\n",
       "      <td>Fire images</td>\n",
       "      <td>132-img1.png</td>\n",
       "      <td>1</td>\n",
       "    </tr>\n",
       "    <tr>\n",
       "      <th>4</th>\n",
       "      <td>Fire images</td>\n",
       "      <td>132343342_21n.jpg</td>\n",
       "      <td>1</td>\n",
       "    </tr>\n",
       "  </tbody>\n",
       "</table>\n",
       "</div>"
      ],
      "text/plain": [
       "        folder                                 filename  fire\n",
       "0  Fire images                                    1.jpg     1\n",
       "1  Fire images                        10-9-15-2-400.jpg     1\n",
       "2  Fire images  11_10_19-mjs_ft_hotel-fire_19183862.jpg     1\n",
       "3  Fire images                             132-img1.png     1\n",
       "4  Fire images                        132343342_21n.jpg     1"
      ]
     },
     "metadata": {},
     "output_type": "display_data"
    },
    {
     "data": {
      "text/html": [
       "<div>\n",
       "<style scoped>\n",
       "    .dataframe tbody tr th:only-of-type {\n",
       "        vertical-align: middle;\n",
       "    }\n",
       "\n",
       "    .dataframe tbody tr th {\n",
       "        vertical-align: top;\n",
       "    }\n",
       "\n",
       "    .dataframe thead th {\n",
       "        text-align: right;\n",
       "    }\n",
       "</style>\n",
       "<table border=\"1\" class=\"dataframe\">\n",
       "  <thead>\n",
       "    <tr style=\"text-align: right;\">\n",
       "      <th></th>\n",
       "      <th>folder</th>\n",
       "      <th>filename</th>\n",
       "      <th>fire</th>\n",
       "    </tr>\n",
       "  </thead>\n",
       "  <tbody>\n",
       "    <tr>\n",
       "      <th>646</th>\n",
       "      <td>Normal Images 5</td>\n",
       "      <td>x14862823.jpg</td>\n",
       "      <td>0</td>\n",
       "    </tr>\n",
       "    <tr>\n",
       "      <th>647</th>\n",
       "      <td>Normal Images 5</td>\n",
       "      <td>xbR1sVO.png</td>\n",
       "      <td>0</td>\n",
       "    </tr>\n",
       "    <tr>\n",
       "      <th>648</th>\n",
       "      <td>Normal Images 5</td>\n",
       "      <td>xR7vfcy.jpg</td>\n",
       "      <td>0</td>\n",
       "    </tr>\n",
       "    <tr>\n",
       "      <th>649</th>\n",
       "      <td>Normal Images 5</td>\n",
       "      <td>xsylvia-hotel-queen-room.jpg.pagespeed.ic.hw9T...</td>\n",
       "      <td>0</td>\n",
       "    </tr>\n",
       "    <tr>\n",
       "      <th>650</th>\n",
       "      <td>Normal Images 5</td>\n",
       "      <td>y5IQiH.jpg</td>\n",
       "      <td>0</td>\n",
       "    </tr>\n",
       "  </tbody>\n",
       "</table>\n",
       "</div>"
      ],
      "text/plain": [
       "              folder                                           filename  fire\n",
       "646  Normal Images 5                                      x14862823.jpg     0\n",
       "647  Normal Images 5                                        xbR1sVO.png     0\n",
       "648  Normal Images 5                                        xR7vfcy.jpg     0\n",
       "649  Normal Images 5  xsylvia-hotel-queen-room.jpg.pagespeed.ic.hw9T...     0\n",
       "650  Normal Images 5                                         y5IQiH.jpg     0"
      ]
     },
     "metadata": {},
     "output_type": "display_data"
    }
   ],
   "source": [
    "# create our project's main dataframe\n",
    "dataframe = pandas.DataFrame(dataset, columns=['folder', 'filename', 'fire'])\n",
    "\n",
    "# display shows these tables neatly, shown below\n",
    "display(dataframe.head(), dataframe.tail())"
   ]
  },
  {
   "cell_type": "markdown",
   "metadata": {
    "slideshow": {
     "slide_type": "slide"
    }
   },
   "source": [
    "## Step 2: Data Manipulation"
   ]
  },
  {
   "cell_type": "markdown",
   "metadata": {
    "slideshow": {
     "slide_type": "subslide"
    }
   },
   "source": [
    "### Check for Duplicates"
   ]
  },
  {
   "cell_type": "code",
   "execution_count": 137,
   "metadata": {
    "slideshow": {
     "slide_type": "fragment"
    }
   },
   "outputs": [
    {
     "data": {
      "text/html": [
       "<div>\n",
       "<style scoped>\n",
       "    .dataframe tbody tr th:only-of-type {\n",
       "        vertical-align: middle;\n",
       "    }\n",
       "\n",
       "    .dataframe tbody tr th {\n",
       "        vertical-align: top;\n",
       "    }\n",
       "\n",
       "    .dataframe thead th {\n",
       "        text-align: right;\n",
       "    }\n",
       "</style>\n",
       "<table border=\"1\" class=\"dataframe\">\n",
       "  <thead>\n",
       "    <tr style=\"text-align: right;\">\n",
       "      <th></th>\n",
       "      <th>folder</th>\n",
       "      <th>filename</th>\n",
       "      <th>fire</th>\n",
       "    </tr>\n",
       "  </thead>\n",
       "  <tbody>\n",
       "    <tr>\n",
       "      <th>0</th>\n",
       "      <td>Fire images</td>\n",
       "      <td>1.jpg</td>\n",
       "      <td>1</td>\n",
       "    </tr>\n",
       "    <tr>\n",
       "      <th>7</th>\n",
       "      <td>Fire images</td>\n",
       "      <td>14.jpg</td>\n",
       "      <td>1</td>\n",
       "    </tr>\n",
       "    <tr>\n",
       "      <th>70</th>\n",
       "      <td>Fire images</td>\n",
       "      <td>images.jpg</td>\n",
       "      <td>1</td>\n",
       "    </tr>\n",
       "    <tr>\n",
       "      <th>77</th>\n",
       "      <td>Fire images</td>\n",
       "      <td>maxresdefault.jpg</td>\n",
       "      <td>1</td>\n",
       "    </tr>\n",
       "    <tr>\n",
       "      <th>124</th>\n",
       "      <td>Normal Images 1</td>\n",
       "      <td>1.jpg</td>\n",
       "      <td>0</td>\n",
       "    </tr>\n",
       "    <tr>\n",
       "      <th>133</th>\n",
       "      <td>Normal Images 1</td>\n",
       "      <td>14.jpg</td>\n",
       "      <td>0</td>\n",
       "    </tr>\n",
       "    <tr>\n",
       "      <th>417</th>\n",
       "      <td>Normal Images 3</td>\n",
       "      <td>images.jpg</td>\n",
       "      <td>0</td>\n",
       "    </tr>\n",
       "    <tr>\n",
       "      <th>462</th>\n",
       "      <td>Normal Images 3</td>\n",
       "      <td>maxresdefault.jpg</td>\n",
       "      <td>0</td>\n",
       "    </tr>\n",
       "  </tbody>\n",
       "</table>\n",
       "</div>"
      ],
      "text/plain": [
       "              folder           filename  fire\n",
       "0        Fire images              1.jpg     1\n",
       "7        Fire images             14.jpg     1\n",
       "70       Fire images         images.jpg     1\n",
       "77       Fire images  maxresdefault.jpg     1\n",
       "124  Normal Images 1              1.jpg     0\n",
       "133  Normal Images 1             14.jpg     0\n",
       "417  Normal Images 3         images.jpg     0\n",
       "462  Normal Images 3  maxresdefault.jpg     0"
      ]
     },
     "metadata": {},
     "output_type": "display_data"
    },
    {
     "data": {
      "text/plain": [
       "Warning('There are 8 duplicated filenames in the dataframe. proceed with caution.')"
      ]
     },
     "metadata": {},
     "output_type": "display_data"
    }
   ],
   "source": [
    "# check for any duplicate filenames in the dataframe\n",
    "duplicates = dataframe['filename'].duplicated(keep=False)\n",
    "\n",
    "# Select rows with duplicate filenames\n",
    "duplicate_rows = dataframe[duplicates]\n",
    "display(duplicate_rows)\n",
    "\n",
    "# create a warning if duplicates exist\n",
    "if duplicates.sum() != 0:\n",
    "\twarning = Warning(\n",
    "\t\tf'There are {duplicates.sum()}'\n",
    "\t\t' duplicated filenames in the dataframe.'\n",
    "\t\t' proceed with caution.'\n",
    "\t) \n",
    "\tdisplay(warning)"
   ]
  },
  {
   "cell_type": "markdown",
   "metadata": {
    "slideshow": {
     "slide_type": "subslide"
    }
   },
   "source": [
    "### Rebalance Datapoints\n",
    "I used [this article][rebalancing] to help figure things out.\n",
    "\n",
    "[rebalancing]: https://towardsdatascience.com/having-an-imbalanced-dataset-here-is-how-you-can-solve-it-1640568947eb"
   ]
  },
  {
   "cell_type": "code",
   "execution_count": 138,
   "metadata": {
    "slideshow": {
     "slide_type": "fragment"
    }
   },
   "outputs": [],
   "source": [
    "# == FIXME ==\n",
    "# this does not seem to be working properly at the moment\n",
    "\n",
    "\"\"\"\n",
    "from imblearn.ensemble import BalancedBaggingClassifier\n",
    "from sklearn.tree import DecisionTreeClassifier\n",
    "\n",
    "# create an object of the classifier, called \"rebalancinator\"\n",
    "rebalancinator = BalancedBaggingClassifier(\n",
    "\tbase_estimator=DecisionTreeClassifier(),\n",
    "\tsampling_strategy='auto',\n",
    "\treplacement=False,\n",
    "\trandom_state=0\n",
    ")\n",
    "\n",
    "'''\n",
    "# train the classifier.\n",
    "rebalancinator.fit(x_train, y_train)\n",
    "preds = rebalancinator.predict(x_train)\n",
    "'''\n",
    "\"\"\"\n",
    "\n",
    "pass"
   ]
  },
  {
   "cell_type": "markdown",
   "metadata": {
    "slideshow": {
     "slide_type": "subslide"
    }
   },
   "source": [
    "### Train/Test Split\n",
    "*Why do we need train/test split?*\n",
    "*What does it do?*"
   ]
  },
  {
   "cell_type": "code",
   "execution_count": 139,
   "metadata": {
    "slideshow": {
     "slide_type": "fragment"
    }
   },
   "outputs": [],
   "source": [
    "# for x: keep the dataframe but drop the fire column\n",
    "x = dataframe.drop(columns=['fire'])\n",
    "\n",
    "# for y: drop everything in the dataframe but fire\n",
    "y = dataframe.loc[:, ['fire']]"
   ]
  },
  {
   "cell_type": "code",
   "execution_count": 140,
   "metadata": {
    "slideshow": {
     "slide_type": "fragment"
    }
   },
   "outputs": [
    {
     "data": {
      "text/html": [
       "<div>\n",
       "<style scoped>\n",
       "    .dataframe tbody tr th:only-of-type {\n",
       "        vertical-align: middle;\n",
       "    }\n",
       "\n",
       "    .dataframe tbody tr th {\n",
       "        vertical-align: top;\n",
       "    }\n",
       "\n",
       "    .dataframe thead th {\n",
       "        text-align: right;\n",
       "    }\n",
       "</style>\n",
       "<table border=\"1\" class=\"dataframe\">\n",
       "  <thead>\n",
       "    <tr style=\"text-align: right;\">\n",
       "      <th></th>\n",
       "      <th>folder</th>\n",
       "      <th>filename</th>\n",
       "    </tr>\n",
       "  </thead>\n",
       "  <tbody>\n",
       "    <tr>\n",
       "      <th>0</th>\n",
       "      <td>Normal Images 2</td>\n",
       "      <td>Elagant-Office-Meeting-Room-Design.jpg</td>\n",
       "    </tr>\n",
       "    <tr>\n",
       "      <th>1</th>\n",
       "      <td>Normal Images 5</td>\n",
       "      <td>ReineFishingVillage.jpg</td>\n",
       "    </tr>\n",
       "    <tr>\n",
       "      <th>2</th>\n",
       "      <td>Normal Images 2</td>\n",
       "      <td>cdnassets.hw.net.jpg</td>\n",
       "    </tr>\n",
       "    <tr>\n",
       "      <th>3</th>\n",
       "      <td>Normal Images 1</td>\n",
       "      <td>158.jpg</td>\n",
       "    </tr>\n",
       "    <tr>\n",
       "      <th>4</th>\n",
       "      <td>Normal Images 1</td>\n",
       "      <td>111052980.jpg</td>\n",
       "    </tr>\n",
       "  </tbody>\n",
       "</table>\n",
       "</div>"
      ],
      "text/plain": [
       "            folder                                filename\n",
       "0  Normal Images 2  Elagant-Office-Meeting-Room-Design.jpg\n",
       "1  Normal Images 5                 ReineFishingVillage.jpg\n",
       "2  Normal Images 2                    cdnassets.hw.net.jpg\n",
       "3  Normal Images 1                                 158.jpg\n",
       "4  Normal Images 1                           111052980.jpg"
      ]
     },
     "metadata": {},
     "output_type": "display_data"
    },
    {
     "data": {
      "text/html": [
       "<div>\n",
       "<style scoped>\n",
       "    .dataframe tbody tr th:only-of-type {\n",
       "        vertical-align: middle;\n",
       "    }\n",
       "\n",
       "    .dataframe tbody tr th {\n",
       "        vertical-align: top;\n",
       "    }\n",
       "\n",
       "    .dataframe thead th {\n",
       "        text-align: right;\n",
       "    }\n",
       "</style>\n",
       "<table border=\"1\" class=\"dataframe\">\n",
       "  <thead>\n",
       "    <tr style=\"text-align: right;\">\n",
       "      <th></th>\n",
       "      <th>fire</th>\n",
       "    </tr>\n",
       "  </thead>\n",
       "  <tbody>\n",
       "    <tr>\n",
       "      <th>0</th>\n",
       "      <td>0</td>\n",
       "    </tr>\n",
       "    <tr>\n",
       "      <th>1</th>\n",
       "      <td>0</td>\n",
       "    </tr>\n",
       "    <tr>\n",
       "      <th>2</th>\n",
       "      <td>0</td>\n",
       "    </tr>\n",
       "    <tr>\n",
       "      <th>3</th>\n",
       "      <td>0</td>\n",
       "    </tr>\n",
       "    <tr>\n",
       "      <th>4</th>\n",
       "      <td>0</td>\n",
       "    </tr>\n",
       "  </tbody>\n",
       "</table>\n",
       "</div>"
      ],
      "text/plain": [
       "   fire\n",
       "0     0\n",
       "1     0\n",
       "2     0\n",
       "3     0\n",
       "4     0"
      ]
     },
     "metadata": {},
     "output_type": "display_data"
    }
   ],
   "source": [
    "# Use the built-in \"train test split\" function\n",
    "# to generate the four desireable segments of data.\n",
    "x_train, x_test, y_train, y_test = train_test_split(\n",
    "\tx, y, test_size=0.35)\n",
    "\n",
    "x_train = x_train.reset_index().drop('index', 1)\n",
    "y_train = y_train.reset_index().drop('index', 1)\n",
    "x_test = x_test.reset_index().drop('index', 1)\n",
    "y_test = y_test.reset_index().drop('index', 1)\n",
    "\n",
    "display(x_test.head())\n",
    "display(y_test.head())"
   ]
  },
  {
   "cell_type": "markdown",
   "metadata": {
    "slideshow": {
     "slide_type": "subslide"
    }
   },
   "source": [
    "### Create Image Vectors"
   ]
  },
  {
   "cell_type": "code",
   "execution_count": 141,
   "metadata": {
    "slideshow": {
     "slide_type": "fragment"
    }
   },
   "outputs": [],
   "source": [
    "image_length = 256"
   ]
  },
  {
   "cell_type": "code",
   "execution_count": 142,
   "metadata": {
    "scrolled": true,
    "slideshow": {
     "slide_type": "fragment"
    }
   },
   "outputs": [],
   "source": [
    "def get_img_vector(x, index):\n",
    "\t# find filepath\n",
    "\tfilename = x['filename'][index]\n",
    "\tfolder = x['folder'][index]\n",
    "\tfilepath = f'data/{folder}/{filename}'\n",
    "\n",
    "\t# open the image via its filepath\n",
    "\timg = Image.open(filepath)\n",
    "\t# ==NOTE==\n",
    "\t# the Image class was imported from PIL\n",
    "\t# (python image library)\n",
    "\n",
    "\t# remove transparency layer\n",
    "\timg = img.convert('RGB')\n",
    "\n",
    "\t# resize the image\n",
    "\timg = img.resize((image_length, image_length))\n",
    "\n",
    "\t# return the image vector\n",
    "\treturn img_to_array(img)"
   ]
  },
  {
   "cell_type": "code",
   "execution_count": 143,
   "metadata": {
    "scrolled": true,
    "slideshow": {
     "slide_type": "fragment"
    }
   },
   "outputs": [],
   "source": [
    "def data_gen(x, y, batch_size):\n",
    "\t# n_batch variables are empty arrays of constant size.\n",
    "\t# x_batch is has RGB values for each pixel's coordinate.\n",
    "\t# y_batch represents whether there is fire or not (0/1).\n",
    "\tx_batch = numpy.zeros((batch_size, image_length, image_length, 3))\n",
    "\ty_batch = numpy.zeros((batch_size, 1))\n",
    "\n",
    "\t# loop through entire dataframe, index by index\n",
    "\tfor index in range(len(x)):\n",
    "\t\t# using batch_size, we can determine \n",
    "\t\tx_batch[index % batch_size] = get_img_vector(x, index)\n",
    "\t\ty_batch[index % batch_size] = y['fire'][index]\n",
    "\n",
    "\t\t# if there has been {batch_size} items, we yield.\n",
    "\t\t# the last batch is an outlier; its batch is smaller.\n",
    "\t\tif ((index + 1) % batch_size == 0\n",
    "\t\tor (index + 1) == len(dataframe)):\n",
    "\t\t\tyield (x_batch, y_batch)"
   ]
  },
  {
   "cell_type": "markdown",
   "metadata": {
    "slideshow": {
     "slide_type": "subslide"
    }
   },
   "source": [
    "## Step 3: Train Model"
   ]
  },
  {
   "cell_type": "code",
   "execution_count": 144,
   "metadata": {
    "slideshow": {
     "slide_type": "fragment"
    }
   },
   "outputs": [],
   "source": [
    "# use \"sequential\" mode from keras module\n",
    "# see https://jovianlin.io/keras-models-sequential-vs-functional/\n",
    "from keras.layers import Conv2D, MaxPooling2D, Flatten, Dense, Dropout\n",
    "# model = Sequential()\n",
    "# model.add(Conv2D(16, (4,4), activation='relu', padding='same', input_shape=(image_length, image_length, 3)))\n",
    "# model.add(Flatten())\n",
    "# model.add(Dense(128, activation='relu'))\n",
    "# model.add(Dense(16, activation='relu'))\n",
    "# model.add(Dense(1, activation='sigmoid'))"
   ]
  },
  {
   "cell_type": "code",
   "execution_count": 145,
   "metadata": {
    "slideshow": {
     "slide_type": "fragment"
    }
   },
   "outputs": [],
   "source": [
    "model = Sequential()\n",
    "model.add(Conv2D(32, kernel_size=(3, 3), activation='relu', input_shape=(image_length, image_length, 3)))\n",
    "model.add(Conv2D(64, (3, 3), activation='relu'))\n",
    "model.add(MaxPooling2D(pool_size=(2, 2)))\n",
    "model.add(Dropout(0.25))\n",
    "model.add(Flatten())\n",
    "model.add(Dense(128, activation='relu'))\n",
    "model.add(Dropout(0.5))\n",
    "model.add(Dense(1, activation='sigmoid'))"
   ]
  },
  {
   "cell_type": "code",
   "execution_count": 146,
   "metadata": {
    "slideshow": {
     "slide_type": "fragment"
    }
   },
   "outputs": [],
   "source": [
    "model.compile(\n",
    "\tloss=binary_crossentropy,\n",
    "\toptimizer=Adadelta(),\n",
    "\tmetrics=['accuracy']\n",
    ")"
   ]
  },
  {
   "cell_type": "code",
   "execution_count": 147,
   "metadata": {
    "scrolled": false,
    "slideshow": {
     "slide_type": "fragment"
    }
   },
   "outputs": [
    {
     "name": "stdout",
     "output_type": "stream",
     "text": [
      "Epoch 1 / 5\n",
      "64/64 [==============================] - 1s 23ms/step\n",
      "accuracy: 0.203125\n",
      "64/64 [==============================] - 1s 23ms/step\n",
      "accuracy: 0.84375\n",
      "64/64 [==============================] - 2s 24ms/step\n",
      "accuracy: 0.84375\n",
      "64/64 [==============================] - 2s 24ms/step\n",
      "accuracy: 0.859375\n",
      "64/64 [==============================] - 2s 26ms/step\n",
      "accuracy: 0.828125\n",
      "64/64 [==============================] - 2s 27ms/step\n",
      "accuracy: 0.828125\n",
      "Epoch 2 / 5\n",
      "64/64 [==============================] - 1s 23ms/step\n",
      "accuracy: 0.796875\n",
      "64/64 [==============================] - 2s 26ms/step\n",
      "accuracy: 0.84375\n",
      "64/64 [==============================] - 1s 23ms/step\n",
      "accuracy: 0.84375\n",
      "64/64 [==============================] - 1s 22ms/step\n",
      "accuracy: 0.828125\n",
      "64/64 [==============================] - 1s 23ms/step\n",
      "accuracy: 0.828125\n",
      "64/64 [==============================] - 1s 23ms/step\n",
      "accuracy: 0.828125\n",
      "Epoch 3 / 5\n",
      "64/64 [==============================] - 1s 23ms/step\n",
      "accuracy: 0.796875\n",
      "64/64 [==============================] - 1s 23ms/step\n",
      "accuracy: 0.84375\n",
      "64/64 [==============================] - 1s 23ms/step\n",
      "accuracy: 0.84375\n",
      "64/64 [==============================] - 1s 22ms/step\n",
      "accuracy: 0.828125\n",
      "64/64 [==============================] - 1s 23ms/step\n",
      "accuracy: 0.828125\n",
      "64/64 [==============================] - 1s 22ms/step\n",
      "accuracy: 0.828125\n",
      "Epoch 4 / 5\n",
      "64/64 [==============================] - 1s 23ms/step\n",
      "accuracy: 0.796875\n",
      "64/64 [==============================] - 1s 22ms/step\n",
      "accuracy: 0.84375\n",
      "64/64 [==============================] - 1s 22ms/step\n",
      "accuracy: 0.84375\n",
      "64/64 [==============================] - 1s 22ms/step\n",
      "accuracy: 0.828125\n",
      "64/64 [==============================] - 1s 22ms/step\n",
      "accuracy: 0.828125\n",
      "64/64 [==============================] - 1s 23ms/step\n",
      "accuracy: 0.828125\n",
      "Epoch 5 / 5\n",
      "64/64 [==============================] - 1s 23ms/step\n",
      "accuracy: 0.796875\n",
      "64/64 [==============================] - 1s 23ms/step\n",
      "accuracy: 0.84375\n",
      "64/64 [==============================] - 1s 22ms/step\n",
      "accuracy: 0.84375\n",
      "64/64 [==============================] - 1s 22ms/step\n",
      "accuracy: 0.828125\n",
      "64/64 [==============================] - 1s 22ms/step\n",
      "accuracy: 0.828125\n",
      "64/64 [==============================] - 1s 23ms/step\n",
      "accuracy: 0.828125\n"
     ]
    }
   ],
   "source": [
    "batch_size = 64\n",
    "epochs = 5\n",
    "\n",
    "for epoch in range(epochs):\n",
    "\tprint(f\"Epoch {epoch+1} / {epochs}\")\n",
    "\tfor x_batch, y_batch in data_gen(x_train, y_train, batch_size):\n",
    "\t\tmodel.train_on_batch(\n",
    "\t\t\tx_batch, y_batch\n",
    "\t\t)\n",
    "\t\tloss, accuracy = model.evaluate(x_batch, y_batch)\n",
    "\t\tprint('accuracy:', accuracy)"
   ]
  },
  {
   "cell_type": "markdown",
   "metadata": {
    "slideshow": {
     "slide_type": "subslide"
    }
   },
   "source": [
    "## Step 4: Affirm Model Accuracy"
   ]
  },
  {
   "cell_type": "code",
   "execution_count": 148,
   "metadata": {
    "slideshow": {
     "slide_type": "fragment"
    }
   },
   "outputs": [],
   "source": [
    "def check_fire(index):\n",
    "\tfire = model.predict(get_img_vector(x_test, index).reshape(-1, 256, 256, 3))\n",
    "# \tprint(fire)\n",
    "\tif fire > 0.3:\n",
    "\t\treturn (True, y_test['fire'][index]==1)\n",
    "\telse:\n",
    "\t\treturn (False, y_test['fire'][index]==1)"
   ]
  },
  {
   "cell_type": "code",
   "execution_count": 149,
   "metadata": {
    "scrolled": false,
    "slideshow": {
     "slide_type": "fragment"
    }
   },
   "outputs": [
    {
     "data": {
      "text/plain": [
       "[[37, 22], [169, 0]]"
      ]
     },
     "execution_count": 149,
     "metadata": {},
     "output_type": "execute_result"
    }
   ],
   "source": [
    "def construct_confusion_matrix():\n",
    "\tTP = 0 # true positive\n",
    "\tTN = 0 # true negative\n",
    "\tFP = 0 # false positive\n",
    "\tFN = 0 # false negative\n",
    "\tfor index in list(range(len(x_test))):\n",
    "\t\tif check_fire(index) == (True, True):\n",
    "\t\t\tTP += 1\n",
    "\t\telif check_fire(index) == (False, False):\n",
    "\t\t\tTN += 1\n",
    "\t\telif check_fire(index) == (True, False):\n",
    "\t\t\tFP += 1\n",
    "\t\telif check_fire(index) == (False, True):\n",
    "\t\t\tFN += 1\n",
    "\treturn [[TP, TN],[FP, FN]]\n",
    "\n",
    "\n",
    "construct_confusion_matrix()"
   ]
  },
  {
   "cell_type": "code",
   "execution_count": 150,
   "metadata": {
    "scrolled": false,
    "slideshow": {
     "slide_type": "fragment"
    }
   },
   "outputs": [
    {
     "name": "stdout",
     "output_type": "stream",
     "text": [
      "\n",
      "0.4943794012069702 \n",
      "<img src=\"./data/Normal Images 2/autumn-sunset-sky.jpg\">\n",
      "\n",
      "0.4943794012069702 \n",
      "<img src=\"./data/Normal Images 2/deluxe-room-01.jpg\">\n",
      "\n",
      "0.4943794012069702 \n",
      "<img src=\"./data/Normal Images 4/norway-fjord-beautiful.jpg\">\n",
      "\n",
      "0.4943794012069702 \n",
      "<img src=\"./data/Normal Images 2/fireplace-with-no-fire.jpg\">\n",
      "\n",
      "0.4943794012069702 \n",
      "<img src=\"./data/Normal Images 2/eclectic-living-room.jpg\">\n",
      "\n",
      "0.4943794012069702 \n",
      "<img src=\"./data/Normal Images 1/4d97215bd7b0c4672f62c62cebaf38c7.jpg\">\n",
      "\n",
      "0.4943794012069702 \n",
      "<img src=\"./data/Normal Images 1/175822886.jpg\">\n",
      "\n",
      "0.0 \n",
      "<img src=\"./data/Normal Images 1/7ad3fe1d3bd5970e6ed98d5cfc0b5c08.jpg\">\n",
      "\n",
      "0.4943794012069702 \n",
      "<img src=\"./data/Normal Images 3/meda_bia_class_0.jpg\">\n",
      "\n",
      "0.4943794012069702 \n",
      "<img src=\"./data/Normal Images 4/Open-plan-office-2.jpg\">\n",
      "\n",
      "0.4943794012069702 \n",
      "<img src=\"./data/Normal Images 3/img_0465.jpg\">\n",
      "\n",
      "0.4943794012069702 \n",
      "<img src=\"./data/Normal Images 1/a-golden-bedroom-with-a-feng-shui-glow.jpg\">\n",
      "\n",
      "0.000440746545791626 \n",
      "<img src=\"./data/Normal Images 3/idol_line_art.jpg\">\n",
      "\n",
      "0.4943794012069702 \n",
      "<img src=\"./data/Normal Images 3/lister_schaffer.jpg\">\n",
      "\n",
      "0.09221623837947845 \n",
      "<img src=\"./data/Normal Images 3/images.jpg\">\n",
      "\n",
      "0.4943794012069702 \n",
      "<img src=\"./data/Normal Images 1/1.jpg\">\n",
      "\n",
      "0.4943794012069702 \n",
      "<img src=\"./data/Fire images/EP-151129597.jpg&MaxW=960&imageVersion=default&NCS_modified=20151124094359.jpg\">\n",
      "\n",
      "0.4943794012069702 \n",
      "<img src=\"./data/Normal Images 2/Great+Room.jpg\">\n",
      "\n",
      "0.4943794012069702 \n",
      "<img src=\"./data/Normal Images 5/SverreHjornevik-FjordNorway.jpg\">\n",
      "\n",
      "0.4943794012069702 \n",
      "<img src=\"./data/Normal Images 2/atlantic-ocean-road62.jpg\">\n",
      "\n",
      "0.0 \n",
      "<img src=\"./data/Fire images/1.jpg\">\n",
      "\n",
      "0.4943794012069702 \n",
      "<img src=\"./data/Normal Images 3/hotel.jpg\">\n",
      "\n",
      "0.4943794012069702 \n",
      "<img src=\"./data/Normal Images 1/AAEAAQAAAAAAAAJqAAAAJDAwNDUwNDAwLWUwYTAtNDlmNy1iNjk4LTY2NDk1NzFjMDI3OQ.jpg\">\n",
      "\n",
      "0.4943794012069702 \n",
      "<img src=\"./data/Normal Images 2/cool-home-office-ideas-and-get-inspired-to-redecorate-your-Home-Office-with-these-decorative-Home-Office-ideas-1.jpg\">\n",
      "\n",
      "0.4943794012069702 \n",
      "<img src=\"./data/Normal Images 4/open-offices.jpg\">\n",
      "\n",
      "0.0 \n",
      "<img src=\"./data/Normal Images 1/2-HootSuite-blog-0534.jpg\">\n",
      "\n",
      "0.4943794012069702 \n",
      "<img src=\"./data/Normal Images 2/cheap-backyard-landscaping-ideas-pictures.jpg\">\n",
      "\n",
      "0.4943794012069702 \n",
      "<img src=\"./data/Normal Images 1/8ad01fe9c81a663751883dae687bd8e0.jpg\">\n",
      "\n",
      "0.4943794012069702 \n",
      "<img src=\"./data/Normal Images 4/mps-conv-store-model2.jpg\">\n",
      "\n",
      "0.4943794012069702 \n",
      "<img src=\"./data/Fire images/1d797f4e7f3a3ba45ac26472b19afa0e.jpg\">\n",
      "\n",
      "0.4943794012069702 \n",
      "<img src=\"./data/Normal Images 2/f90f62c721068418828c0d99b5d892d0.jpg\">\n",
      "\n",
      "0.4943794012069702 \n",
      "<img src=\"./data/Normal Images 1/360px-Greenmountains.jpg\">\n",
      "\n",
      "0.4943794012069702 \n",
      "<img src=\"./data/Normal Images 1/289259543-business-meeting-salle-de-conference-discuter-debattre-collegues.jpg\">\n",
      "\n",
      "0.0 \n",
      "<img src=\"./data/Normal Images 1/2879429718_f6a88de41d_b.jpg\">\n",
      "\n",
      "0.4943794012069702 \n",
      "<img src=\"./data/Normal Images 2/efe.jpg\">\n",
      "\n",
      "0.4943794012069702 \n",
      "<img src=\"./data/Fire images/nederland-wildfire.jpg\">\n",
      "\n",
      "0.4943794012069702 \n",
      "<img src=\"./data/Fire images/Christmas-Tree-Fire-Safety.jpg\">\n",
      "\n",
      "0.4943794012069702 \n",
      "<img src=\"./data/Fire images/2853723335_44fdafb8fa_o.jpg\">\n",
      "\n",
      "0.4943794012069702 \n",
      "<img src=\"./data/Normal Images 2/CCTV-in-supermarket.jpg\">\n",
      "\n",
      "0.0 \n",
      "<img src=\"./data/Normal Images 5/removals-companies2.jpg\">\n",
      "\n",
      "0.4943794012069702 \n",
      "<img src=\"./data/Normal Images 2/DSC_0191.JPG\">\n",
      "\n",
      "0.4943794012069702 \n",
      "<img src=\"./data/Fire images/IMG00256.jpg\">\n",
      "\n",
      "0.4943794012069702 \n",
      "<img src=\"./data/Normal Images 1/45a4925c6329b15ac6184c868b78db14.jpg\">\n",
      "\n",
      "0.4943794012069702 \n",
      "<img src=\"./data/Normal Images 3/Interior Design Ideas (3).jpg\">\n",
      "\n",
      "0.4943794012069702 \n",
      "<img src=\"./data/Fire images/burning-houses-1-300x214.jpg\">\n",
      "\n",
      "0.4943794012069702 \n",
      "<img src=\"./data/Normal Images 3/Liberia-terminal_newsfull_h.jpg\">\n",
      "\n",
      "0.4943794012069702 \n",
      "<img src=\"./data/Normal Images 1/98282906.jpg\">\n",
      "\n",
      "0.4943794012069702 \n",
      "<img src=\"./data/Normal Images 1/Adamsafter.jpg\">\n",
      "\n",
      "0.4943794012069702 \n",
      "<img src=\"./data/Normal Images 2/glacier.jpg\">\n",
      "\n",
      "0.4943794012069702 \n",
      "<img src=\"./data/Normal Images 2/ballroom2.jpg\">\n"
     ]
    }
   ],
   "source": [
    "for index in list(range(50)):\n",
    "\tpredict = model.predict(get_img_vector(x_test, index).reshape(-1, 256, 256, 3))\n",
    "\tprint(\n",
    "\t\tf'\\n{predict[0][0]} \\n' \n",
    "\t\t'<img src=\"./data/'\n",
    "\t\tf'{x_train[\"folder\"][index]}'\n",
    "\t\t'/'\n",
    "\t\tf'{x_train[\"filename\"][index]}\">'\n",
    "\t)"
   ]
  },
  {
   "cell_type": "markdown",
   "metadata": {
    "slideshow": {
     "slide_type": "fragment"
    }
   },
   "source": [
    "\n",
    "<img src=\"./data/Normal Images 1/29a74da6d3a8a4577a43d76b519128c1.jpg\">"
   ]
  }
 ],
 "metadata": {
  "celltoolbar": "Slideshow",
  "kernelspec": {
   "display_name": "Python 3",
   "language": "python",
   "name": "python3"
  },
  "language_info": {
   "codemirror_mode": {
    "name": "ipython",
    "version": 3
   },
   "file_extension": ".py",
   "mimetype": "text/x-python",
   "name": "python",
   "nbconvert_exporter": "python",
   "pygments_lexer": "ipython3",
   "version": "3.7.3"
  }
 },
 "nbformat": 4,
 "nbformat_minor": 2
}
