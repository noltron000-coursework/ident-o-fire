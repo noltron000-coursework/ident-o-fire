{
 "cells": [
  {
   "cell_type": "code",
   "execution_count": null,
   "metadata": {},
   "outputs": [],
   "source": [
    "import glob\n",
    "files = glob.glob('data/Fire images/*.*')\n",
    "ls_fire = []\n",
    "for i in files:\n",
    "\tprint([i.split('/')[1], '0'])\n",
    "\tls_fire.append(['/', i.split('/')[1], '1'])"
   ]
  },
  {
   "cell_type": "code",
   "execution_count": null,
   "metadata": {},
   "outputs": [],
   "source": [
    "import pandas as pd\n",
    "\n",
    "df_fire = pd.DataFrame(ls_fire, columns=['Folder', 'filename', 'label'])"
   ]
  },
  {
   "cell_type": "code",
   "execution_count": null,
   "metadata": {},
   "outputs": [],
   "source": [
    "df_fire.head()"
   ]
  },
  {
   "cell_type": "code",
   "execution_count": null,
   "metadata": {},
   "outputs": [],
   "source": [
    "len(df_fire)"
   ]
  },
  {
   "cell_type": "code",
   "execution_count": null,
   "metadata": {},
   "outputs": [],
   "source": [
    "df_fire['filename'].duplicated().sum()"
   ]
  },
  {
   "cell_type": "code",
   "execution_count": null,
   "metadata": {},
   "outputs": [],
   "source": [
    "df_fire['filename'][0]"
   ]
  },
  {
   "cell_type": "code",
   "execution_count": null,
   "metadata": {},
   "outputs": [],
   "source": [
    "df_fire['Folder'][0]"
   ]
  },
  {
   "cell_type": "code",
   "execution_count": null,
   "metadata": {
    "scrolled": true
   },
   "outputs": [],
   "source": [
    "from PIL import Image\n",
    "from keras.preprocessing.image import img_to_array\n",
    "\n",
    "img = Image.open(f'data/{df_fire[\"Folder\"][0]}/{df_fire[\"filename\"][0]}')\n",
    "print(img.size)\n",
    "image_red = img.resize((1024, 1024))\n",
    "image = img_to_array(image_red)"
   ]
  },
  {
   "cell_type": "code",
   "execution_count": null,
   "metadata": {},
   "outputs": [],
   "source": [
    "image"
   ]
  },
  {
   "cell_type": "markdown",
   "metadata": {},
   "source": [
    "### Merge dfs"
   ]
  },
  {
   "cell_type": "code",
   "execution_count": null,
   "metadata": {},
   "outputs": [],
   "source": [
    "import numpy as np\n",
    "\n",
    "#Split df into train and test based on label column\n",
    "df_train\n",
    "df_test\n",
    "\n",
    "def data_gen(df, batch_size):\n",
    "\twhile True:\n",
    "\t\tx_batch = np.zeros((batch_size, 3, 1024, 1024))\n",
    "\t\ty_batch = np.zeros((batch_size, 1))\n",
    "\t\tfor j in range(len(df/batch_size)):\n",
    "\t\t\tb = 0\n",
    "\t\t\tfor m, k in zip(\n",
    "\t\t\t\tdf['filename'].values[j*batch_size:(j+1)*batch_size],\n",
    "\t\t\t\tdf['label'].values[j*batch_size:(j+1)*batch_size]\n",
    "\t\t\t):\n",
    "\t\t\t\timg = Image.open(f'{df[\"Folder\"][b]}/{m}')\n",
    "\t\t\t\timage_red = img.resize((1024, 1024))\n",
    "\t\t\t\tx_batch[b] = img_to_array(image_red)\n",
    "\t\t\t\ty_batch[b] = k\n",
    "\t\t\t\tb += 1\n",
    "\t\t\tyield (x_batch, y_batch)\n",
    "\n",
    "\n",
    "model.fit_generator(\n",
    "\tgenerator=data_gen(\n",
    "\t\tdf_train,\n",
    "\t\tbatch_size=batch_size\n",
    "\t), \n",
    "\tsteps_per_epoch=len(df_train) // batch_size, epochs=epochs\n",
    ")"
   ]
  },
  {
   "cell_type": "code",
   "execution_count": null,
   "metadata": {},
   "outputs": [],
   "source": []
  }
 ],
 "metadata": {
  "kernelspec": {
   "display_name": "Python 3",
   "language": "python",
   "name": "python3"
  },
  "language_info": {
   "codemirror_mode": {
    "name": "ipython",
    "version": 3
   },
   "file_extension": ".py",
   "mimetype": "text/x-python",
   "name": "python",
   "nbconvert_exporter": "python",
   "pygments_lexer": "ipython3",
   "version": "3.7.3"
  }
 },
 "nbformat": 4,
 "nbformat_minor": 2
}
